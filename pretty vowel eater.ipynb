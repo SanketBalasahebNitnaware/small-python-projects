{
 "cells": [
  {
   "cell_type": "code",
   "execution_count": null,
   "id": "082e9cec",
   "metadata": {},
   "outputs": [],
   "source": [
    "#Your task here is even more special than before: you must redesign the (ugly) vowel eater from the previous lab (3.1.2.10) \n",
    "#and create a better, upgraded (pretty) vowel eater! Write a program that uses:\n",
    "\n",
    "#a for loop;\n",
    "#the concept of conditional execution (if-elif-else)\n",
    "#the continue statement.\n",
    "#\n",
    "#Your program must:\n",
    "\n",
    "#ask the user to enter a word;\n",
    "#use user_word = user_word.upper() to convert the word entered by the user to upper case; \n",
    "#we'll talk about the so-called string methods and the upper() method very soon - don't worry;\n",
    "#use conditional execution and the continue statement to \"eat\" the following vowels A, E, I, O, U from the inputted word;\n",
    "#assign the uneaten letters to the word_without_vowels variable and print the variable to the screen.\n",
    "\n",
    "\n",
    "word_without_vowels = \"\"\n",
    "user_word = str(input(\"Enter the word: \"))\n",
    "user_word = user_word.upper()\n",
    "# Prompt the user to enter a word\n",
    "# and assign it to the user_word variable.\n",
    "\n",
    "\n",
    "for letter in user_word:\n",
    "    if letter == \"A\":\n",
    "        continue\n",
    "    elif letter == \"E\":\n",
    "        continue\n",
    "    elif letter == \"I\":\n",
    "        continue\n",
    "    elif letter == \"O\":\n",
    "        continue\n",
    "    elif letter == \"U\":\n",
    "        continue\n",
    "    word_without_vowels += letter\n",
    "else:\n",
    "    print(word_without_vowels)\n",
    "    # Complete the body of the loop.\n",
    "\n",
    "# Print the word assigned to word_without_vowels."
   ]
  }
 ],
 "metadata": {
  "kernelspec": {
   "display_name": "Python 3 (ipykernel)",
   "language": "python",
   "name": "python3"
  },
  "language_info": {
   "codemirror_mode": {
    "name": "ipython",
    "version": 3
   },
   "file_extension": ".py",
   "mimetype": "text/x-python",
   "name": "python",
   "nbconvert_exporter": "python",
   "pygments_lexer": "ipython3",
   "version": "3.9.7"
  }
 },
 "nbformat": 4,
 "nbformat_minor": 5
}
