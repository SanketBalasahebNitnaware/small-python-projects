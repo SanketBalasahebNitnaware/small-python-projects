{
 "cells": [
  {
   "cell_type": "code",
   "execution_count": 13,
   "id": "73735e61",
   "metadata": {},
   "outputs": [
    {
     "name": "stdout",
     "output_type": "stream",
     "text": [
      "\n",
      "\n",
      "The birthday paradox shows us that in a group of N people, the odds\n",
      "that two of them having similar birthday is suprisingly large.\n",
      "This program does a monte carlo simulation ( that is, repeated random\n",
      "simulation) to explore this concept.\n",
      "\n",
      "(It is not a paradox, it's just suprising results)\n",
      "\n",
      "How many birthdays shall I generate? (Max 100)\n",
      "> 50\n",
      "\n",
      "Here are 50 birthdays:\n",
      ", Mar 7, Feb 9, Jul 14, Mar 13, Jun 10, Mar 22, Dec 3, Jul 31, Apr 2, Jul 15, Nov 19, Nov 23, Oct 7, Jul 15, Jan 10, Nov 26, Apr 8, Nov 16, May 28, Jul 16, Jan 29, Aug 22, Sep 24, Aug 6, Nov 17, Aug 19, Dec 16, Oct 20, Jul 3, Jul 23, Oct 7, Apr 3, Sep 5, Feb 26, Nov 7, Jun 6, May 19, Nov 7, Dec 7, May 7, Jan 1, Aug 5, May 4, Nov 6, Jun 22, Sep 19, Jul 8, Aug 17, Sep 5\n",
      "\n",
      "In this simulation, multiple people have a birthday on Jul 15\n",
      "Generating 50 random birthdays 100,000 times...\n",
      "Press Enter to begin...\n",
      "Let's run another 100,000 simulations.\n",
      "0 simulatons run...\n",
      "10000 simulatons run...\n",
      "20000 simulatons run...\n",
      "30000 simulatons run...\n",
      "40000 simulatons run...\n",
      "50000 simulatons run...\n",
      "60000 simulatons run...\n",
      "70000 simulatons run...\n",
      "80000 simulatons run...\n",
      "90000 simulatons run...\n",
      "100,000 simulations run .\n",
      "Out of 100,000 simulations of 50 people, there was a\n",
      "matching birthday in that group 97096 times. This means\n",
      "that 50 people have a 97.1 % chance of\n",
      "having a matching birthday in thier group.\n",
      "That's probably more than you would think\n"
     ]
    }
   ],
   "source": [
    "import datetime, random\n",
    "\n",
    "def getBirthdays(numberOfBirthdays):\n",
    "    \"\"\"Returns a list of number random date objects for birthdays.\"\"\"\n",
    "    birthdays=[ ]\n",
    "    for i in range (numberOfBirthdays):\n",
    "        # year is unimportant for our simulation, as long as all\n",
    "        # birthdays have same year.\n",
    "        startOfYear = datetime.date(2001,1,1)\n",
    "        \n",
    "        #Get random day into the year:\n",
    "        randomNumberOfDays = datetime.timedelta(random.randint(0,364))\n",
    "        birthday = startOfYear + randomNumberOfDays \n",
    "        birthdays.append(birthday)\n",
    "    return birthdays\n",
    "\n",
    "def getMatch(birthdays):\n",
    "    \"\"\"Returns the date object of a birthday that occurs more than once\n",
    "    in the birthdays list.\"\"\"\n",
    "    if len(birthdays) == len(set(birthdays)):\n",
    "        return None #All birthdays are unique so return none.\n",
    "    #Compare each birthday to every other birthday:\n",
    "    for a, birthdayA in enumerate(birthdays):\n",
    "        for b, birthdayB in enumerate(birthdays[a + 1:]):\n",
    "            if birthdayA == birthdayB:\n",
    "                return birthdayA # return matching birthday.\n",
    "            \n",
    "#Display the intro:\n",
    "print('''\n",
    "\n",
    "The birthday paradox shows us that in a group of N people, the odds\n",
    "that two of them having similar birthday is suprisingly large.\n",
    "This program does a monte carlo simulation ( that is, repeated random\n",
    "simulation) to explore this concept.\n",
    "\n",
    "(It is not a paradox, it's just suprising results)\n",
    "''')\n",
    "\n",
    "#Set up a tuple of month names in order\n",
    "MONTHS = ('Jan','Feb','Mar','Apr','May','Jun',\n",
    "         'Jul','Aug','Sep','Oct','Nov','Dec')\n",
    "\n",
    "while True: #keep asking until user puts a valid amount\n",
    "    print('How many birthdays shall I generate? (Max 100)')\n",
    "    response = input('> ')\n",
    "    if response.isdecimal() and (0 < int(response)<=100 ):\n",
    "        numBDays = int(response)\n",
    "        break #User has entered a valid amount.\n",
    "print()\n",
    "\n",
    "        \n",
    "# Generate and display the birthdays\n",
    "print('Here are', numBDays, 'birthdays:')\n",
    "birthdays = getBirthdays(numBDays)\n",
    "for i, birthday in enumerate(birthdays):\n",
    "    if i != 0:\n",
    "        #Display a coma for each birthday after the first birthday.\n",
    "        print(', ', end='')\n",
    "        monthName = MONTHS[birthday.month -  1]\n",
    "        dateText = '{} {}'.format(monthName, birthday.day)\n",
    "        print(dateText, end='')\n",
    "print()\n",
    "print()  \n",
    "\n",
    "# Determine if two birthdays are match.\n",
    "match = getMatch(birthdays)\n",
    "\n",
    "# Display the results:\n",
    "print('In this simulation, ',end='')\n",
    "if match != None:\n",
    "    monthName = MONTHS[match.month - 1]\n",
    "    dateText = '{} {}'.format(monthName, match.day)\n",
    "    print('multiple people have a birthday on', dateText)\n",
    "else:\n",
    "    print('there are no matching birthdays.')\n",
    "    \n",
    "    print()\n",
    "    \n",
    "#Run through 100,000 simulations:\n",
    "print('Generating', numBDays,'random birthdays 100,000 times...')\n",
    "input('Press Enter to begin...')\n",
    "\n",
    "print('Let\\'s run another 100,000 simulations.')\n",
    "simMatch = 0 # How many simulation had matching birthdays in them.\n",
    "for i in range (100_000):\n",
    "    #Report on the progress every 10,000 simulations:\n",
    "    if i % 10000 == 0:\n",
    "        print(i,'simulatons run...')\n",
    "    birthdays = getBirthdays(numBDays)\n",
    "    if getMatch(birthdays) != None:\n",
    "        simMatch = simMatch + 1\n",
    "print('100,000 simulations run .')\n",
    "\n",
    "# Display simulations result:\n",
    "probability = round(simMatch/100_000*100,2)\n",
    "print('Out of 100,000 simulations of', numBDays,'people, there was a')\n",
    "print('matching birthday in that group', simMatch,'times. This means')\n",
    "print('that', numBDays,'people have a', probability, '% chance of')\n",
    "print('having a matching birthday in thier group.')\n",
    "print('That\\'s probably more than you would think')"
   ]
  },
  {
   "cell_type": "code",
   "execution_count": 2,
   "id": "2dc28ec0",
   "metadata": {},
   "outputs": [],
   "source": [
    "\n",
    "            "
   ]
  },
  {
   "cell_type": "code",
   "execution_count": 3,
   "id": "70e7ae7f",
   "metadata": {},
   "outputs": [
    {
     "name": "stdout",
     "output_type": "stream",
     "text": [
      "\n",
      "\n",
      "The birthday paradox shows us that in a group of N people, the odds\n",
      "that two of them having similar birthday is suprisingly large.\n",
      "This program does a monte carlo simulation ( that is, repeated random\n",
      "simulation) to explore this concept.\n",
      "\n",
      "(It is not a paradox, it's just suprising results)\n",
      "\n",
      "How many birthdays shall I generate? (Max 100)\n",
      "> 50\n",
      "\n"
     ]
    }
   ],
   "source": []
  },
  {
   "cell_type": "code",
   "execution_count": 5,
   "id": "b178eaa9",
   "metadata": {},
   "outputs": [
    {
     "name": "stdout",
     "output_type": "stream",
     "text": [
      "Here are 50 birthdays:\n"
     ]
    },
    {
     "ename": "NameError",
     "evalue": "name 'rangeOfBirthdays' is not defined",
     "output_type": "error",
     "traceback": [
      "\u001b[1;31m---------------------------------------------------------------------------\u001b[0m",
      "\u001b[1;31mNameError\u001b[0m                                 Traceback (most recent call last)",
      "\u001b[1;32m~\\AppData\\Local\\Temp/ipykernel_14824/1160903244.py\u001b[0m in \u001b[0;36m<module>\u001b[1;34m\u001b[0m\n\u001b[0;32m      1\u001b[0m \u001b[1;31m# Generate and display the birthdays\u001b[0m\u001b[1;33m\u001b[0m\u001b[1;33m\u001b[0m\u001b[0m\n\u001b[0;32m      2\u001b[0m \u001b[0mprint\u001b[0m\u001b[1;33m(\u001b[0m\u001b[1;34m'Here are'\u001b[0m\u001b[1;33m,\u001b[0m \u001b[0mnumBdays\u001b[0m\u001b[1;33m,\u001b[0m \u001b[1;34m'birthdays:'\u001b[0m\u001b[1;33m)\u001b[0m\u001b[1;33m\u001b[0m\u001b[1;33m\u001b[0m\u001b[0m\n\u001b[1;32m----> 3\u001b[1;33m \u001b[0mbirthdays\u001b[0m \u001b[1;33m=\u001b[0m \u001b[0mgetBirthdays\u001b[0m\u001b[1;33m(\u001b[0m\u001b[0mnumBdays\u001b[0m\u001b[1;33m)\u001b[0m\u001b[1;33m\u001b[0m\u001b[1;33m\u001b[0m\u001b[0m\n\u001b[0m\u001b[0;32m      4\u001b[0m \u001b[1;32mfor\u001b[0m \u001b[0mi\u001b[0m\u001b[1;33m,\u001b[0m \u001b[0mbirthday\u001b[0m \u001b[1;32min\u001b[0m \u001b[0menumerate\u001b[0m\u001b[1;33m(\u001b[0m\u001b[0mbirthdays\u001b[0m\u001b[1;33m)\u001b[0m\u001b[1;33m:\u001b[0m\u001b[1;33m\u001b[0m\u001b[1;33m\u001b[0m\u001b[0m\n\u001b[0;32m      5\u001b[0m     \u001b[1;32mif\u001b[0m \u001b[0mi\u001b[0m \u001b[1;33m!=\u001b[0m \u001b[1;36m0\u001b[0m\u001b[1;33m:\u001b[0m\u001b[1;33m\u001b[0m\u001b[1;33m\u001b[0m\u001b[0m\n",
      "\u001b[1;32m~\\AppData\\Local\\Temp/ipykernel_14824/3877980944.py\u001b[0m in \u001b[0;36mgetBirthdays\u001b[1;34m(numberOfBirthdays)\u001b[0m\n\u001b[0;32m      4\u001b[0m     \u001b[1;34m\"\"\"Returns a list of number random date objects for birthdays.\"\"\"\u001b[0m\u001b[1;33m\u001b[0m\u001b[1;33m\u001b[0m\u001b[0m\n\u001b[0;32m      5\u001b[0m     \u001b[0mbirthday\u001b[0m\u001b[1;33m=\u001b[0m\u001b[1;33m[\u001b[0m \u001b[1;33m]\u001b[0m\u001b[1;33m\u001b[0m\u001b[1;33m\u001b[0m\u001b[0m\n\u001b[1;32m----> 6\u001b[1;33m     \u001b[1;32mfor\u001b[0m \u001b[0mi\u001b[0m \u001b[1;32min\u001b[0m \u001b[0mrange\u001b[0m \u001b[1;33m(\u001b[0m\u001b[0mrangeOfBirthdays\u001b[0m\u001b[1;33m)\u001b[0m\u001b[1;33m:\u001b[0m\u001b[1;33m\u001b[0m\u001b[1;33m\u001b[0m\u001b[0m\n\u001b[0m\u001b[0;32m      7\u001b[0m         \u001b[1;31m# year is unimportant for our simulation, as long as all\u001b[0m\u001b[1;33m\u001b[0m\u001b[1;33m\u001b[0m\u001b[0m\n\u001b[0;32m      8\u001b[0m         \u001b[1;31m# birthdays have same year.\u001b[0m\u001b[1;33m\u001b[0m\u001b[1;33m\u001b[0m\u001b[0m\n",
      "\u001b[1;31mNameError\u001b[0m: name 'rangeOfBirthdays' is not defined"
     ]
    }
   ],
   "source": []
  },
  {
   "cell_type": "code",
   "execution_count": null,
   "id": "65e26250",
   "metadata": {},
   "outputs": [],
   "source": []
  },
  {
   "cell_type": "code",
   "execution_count": null,
   "id": "06a41f7e",
   "metadata": {},
   "outputs": [],
   "source": []
  },
  {
   "cell_type": "code",
   "execution_count": null,
   "id": "508ed796",
   "metadata": {},
   "outputs": [],
   "source": []
  }
 ],
 "metadata": {
  "kernelspec": {
   "display_name": "Python 3 (ipykernel)",
   "language": "python",
   "name": "python3"
  },
  "language_info": {
   "codemirror_mode": {
    "name": "ipython",
    "version": 3
   },
   "file_extension": ".py",
   "mimetype": "text/x-python",
   "name": "python",
   "nbconvert_exporter": "python",
   "pygments_lexer": "ipython3",
   "version": "3.9.7"
  }
 },
 "nbformat": 4,
 "nbformat_minor": 5
}
