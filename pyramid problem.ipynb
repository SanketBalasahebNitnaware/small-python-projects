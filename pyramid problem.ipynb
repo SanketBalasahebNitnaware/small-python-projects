{
 "cells": [
  {
   "cell_type": "code",
   "execution_count": 9,
   "id": "c0739ebf",
   "metadata": {},
   "outputs": [
    {
     "name": "stdout",
     "output_type": "stream",
     "text": [
      "Enter the number of blocks: 12\n",
      "The height of the pyramid: 4\n"
     ]
    }
   ],
   "source": [
    "blocks = int(input(\"Enter the number of blocks: \"))\n",
    "\n",
    "height = 0\n",
    "inlayer = 1\n",
    "while inlayer <= blocks:\n",
    "    height += 1\n",
    "    blocks -= inlayer\n",
    "    inlayer += 1\n",
    "\n",
    "print(\"The height of the pyramid:\", height)\n"
   ]
  },
  {
   "cell_type": "code",
   "execution_count": 10,
   "id": "80f5c0e0",
   "metadata": {},
   "outputs": [
    {
     "ename": "SyntaxError",
     "evalue": "invalid syntax (Temp/ipykernel_11208/2817752785.py, line 3)",
     "output_type": "error",
     "traceback": [
      "\u001b[1;36m  File \u001b[1;32m\"C:\\Users\\sanket\\AppData\\Local\\Temp/ipykernel_11208/2817752785.py\"\u001b[1;36m, line \u001b[1;32m3\u001b[0m\n\u001b[1;33m    height = 0\u001b[0m\n\u001b[1;37m    ^\u001b[0m\n\u001b[1;31mSyntaxError\u001b[0m\u001b[1;31m:\u001b[0m invalid syntax\n"
     ]
    }
   ],
   "source": []
  },
  {
   "cell_type": "code",
   "execution_count": 34,
   "id": "f59687fa",
   "metadata": {},
   "outputs": [
    {
     "name": "stdout",
     "output_type": "stream",
     "text": [
      "Step 1: []\n",
      "Step 2: ['John Lennon', 'Paul McCartney', 'George Harrison']\n",
      "Number of entries: 2\n"
     ]
    },
    {
     "ename": "SyntaxError",
     "evalue": "'continue' not properly in loop (Temp/ipykernel_11208/2682602956.py, line 17)",
     "output_type": "error",
     "traceback": [
      "\u001b[1;36m  File \u001b[1;32m\"C:\\Users\\sanket\\AppData\\Local\\Temp/ipykernel_11208/2682602956.py\"\u001b[1;36m, line \u001b[1;32m17\u001b[0m\n\u001b[1;33m    continue\u001b[0m\n\u001b[1;37m    ^\u001b[0m\n\u001b[1;31mSyntaxError\u001b[0m\u001b[1;31m:\u001b[0m 'continue' not properly in loop\n"
     ]
    }
   ],
   "source": [
    "beatles = []\n",
    "# step 1\n",
    "print(\"Step 1:\", beatles)\n",
    "\n",
    "beatles.append(\"John Lennon\")\n",
    "beatles.append(\"Paul McCartney\")\n",
    "beatles.append(\"George Harrison\")\n",
    "# step 2\n",
    "print(\"Step 2:\", beatles)\n",
    "\n",
    "\n",
    "i = int(input(\"Number of entries: \"))\n",
    "if  i > 0:    \n",
    "        x = str(input(\"Enter the name: \"))\n",
    "        beatles.append(x)\n",
    "        i -= 1\n",
    "\n",
    "else: \n",
    "        \n",
    "# step 3\n",
    "     print(\"Step 3:\", beatles)\n",
    "\n",
    "# step 4\n",
    "del beatles[-1]\n",
    "del beatles[-1]\n",
    "print(\"Step 4:\", beatles)\n",
    "\n",
    "# step 5\n",
    "beatles.insert(0,\"Ringo Starr\")\n",
    "print(\"Step 5:\", beatles)\n",
    "\n",
    "\n",
    "# testing list legth\n",
    "print(\"The Fab\", len(beatles))"
   ]
  },
  {
   "cell_type": "code",
   "execution_count": null,
   "id": "b7aee89e",
   "metadata": {},
   "outputs": [],
   "source": []
  },
  {
   "cell_type": "code",
   "execution_count": null,
   "id": "79c845ef",
   "metadata": {},
   "outputs": [],
   "source": [
    "2"
   ]
  }
 ],
 "metadata": {
  "kernelspec": {
   "display_name": "Python 3 (ipykernel)",
   "language": "python",
   "name": "python3"
  },
  "language_info": {
   "codemirror_mode": {
    "name": "ipython",
    "version": 3
   },
   "file_extension": ".py",
   "mimetype": "text/x-python",
   "name": "python",
   "nbconvert_exporter": "python",
   "pygments_lexer": "ipython3",
   "version": "3.9.7"
  }
 },
 "nbformat": 4,
 "nbformat_minor": 5
}
