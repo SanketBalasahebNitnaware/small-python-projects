{
 "cells": [
  {
   "cell_type": "code",
   "execution_count": 2,
   "id": "33920dc8",
   "metadata": {},
   "outputs": [
    {
     "name": "stdout",
     "output_type": "stream",
     "text": [
      "Bitmap message\n",
      "Enter message to display with the bitmap\n",
      "> a\n",
      "\n",
      "a a a a a a a a a a a a a a a a a a a a a a a a a a a a a a a a a a a a a a a a a a a a a a a a a a a a a a a a a a a a a a a a a a a a \n",
      "   a a a a a a a a a a a a a a    a   a a a  a a   a       a a a a a a a a a a a a a a a a a a a a a a a a a a a a a a \n",
      "  a a a a a a a a a a a a a a a a a a a a a  a a  a a  a   a  a a a a a a a a a a a a a a a a a a a a a a a a a a a a a a  a \n",
      " a a       a a a a a a a a a a a a a a a a a        a a a a a a a a a a a a a a a a a a a a a a a a a a a a a a \n",
      "          a a a a a a a a a a a a a           a a   a  a a a a  a a  a a a a a a a a a a a a a a  a \n",
      "           a a a a a a a a a             a a a a a a a    a a a a a a a a a a a a a a a a  a  a \n",
      "            a a a a a a a a            a a a a a a a a a a a a a a a a a a a a a a a a a a a   a \n",
      "   a         a  a a a a  a a a          a a a a a a a a a a a a a a a  a a a a a a   a a  a \n",
      "               a a a a   a          a a a a a a a a a a a a a a a    a a a  a a a   a \n",
      "                 a a a a a a          a a a a a a a a a a a a a     a a    a a   a \n",
      "                 a a a a a a a a         a a a a a a a a a a a a a     a   a a  a a a \n",
      "                   a a a a a a a a          a a a a a a a a           a  a a a  a a a a \n",
      "                   a a a a a a a a a          a a a a a a   a         a a a a  a a  a  a a \n",
      "                   a a a a a a a a a          a a a a a a  a  a            a a a  a    a \n",
      "                     a a a a a a           a a a a a  a a              a a a a a    a \n",
      "                     a a a a a             a a a a  a             a a a a a a a a \n",
      "                    a a a a a              a a a a               a a a a a a a a a \n",
      "                    a a a a               a a                  a a a a a a a    a \n",
      "                    a a a                                        a     a \n",
      "                    a a      a                     a \n",
      "a a a a a a a a a a a a a a a a a a a a a a a a a a a a a a a a a a a a a a a a a a a a a a a a a a a a a a a a a a a a a a a a a a a a \n"
     ]
    }
   ],
   "source": [
    "import sys\n",
    "\n",
    "bitmap = \"\"\"\n",
    "....................................................................\n",
    "   **************   *  *** **  *      ******************************\n",
    "  ********************* ** ** *  * ****************************** *\n",
    " **      *****************       ******************************\n",
    "          *************          **  * **** ** ************** *\n",
    "           *********            *******   **************** * *\n",
    "            ********           ***************************  *\n",
    "   *        * **** ***         *************** ******  ** *\n",
    "               ****  *         ***************   *** ***  *\n",
    "                 ******         *************    **   **  *\n",
    "                 ********        *************    *  ** ***\n",
    "                   ********         ********          * *** ****\n",
    "                   *********         ******  *        **** ** * **\n",
    "                   *********         ****** * *           *** *   *\n",
    "                     ******          ***** **             *****   *\n",
    "                     *****            **** *            ********\n",
    "                    *****             ****              *********\n",
    "                    ****              **                 *******   *\n",
    "                    ***                                       *    *\n",
    "                    **     *                    *\n",
    "....................................................................\"\"\"\n",
    "\n",
    "print('Bitmap message')\n",
    "print('Enter message to display with the bitmap')\n",
    "message = input('> ')\n",
    "if message == '':\n",
    "    sys.exit()\n",
    "    \n",
    "#Loop over each line in bitmap:\n",
    "for line in bitmap.splitlines():\n",
    "    #loop over each character in bitmap\n",
    "    for i, bit in enumerate(line):\n",
    "        if bit== ' ':\n",
    "            #print an empty space since there is a empty space in bit map\n",
    "            print(' ', end='')\n",
    "        else:\n",
    "            # print charachter from message\n",
    "            print (message[i%len(message)],end=' ')\n",
    "    print() #print a new message"
   ]
  },
  {
   "cell_type": "code",
   "execution_count": null,
   "id": "260861a0",
   "metadata": {},
   "outputs": [],
   "source": []
  },
  {
   "cell_type": "code",
   "execution_count": null,
   "id": "ef2e7002",
   "metadata": {},
   "outputs": [],
   "source": []
  }
 ],
 "metadata": {
  "kernelspec": {
   "display_name": "Python 3 (ipykernel)",
   "language": "python",
   "name": "python3"
  },
  "language_info": {
   "codemirror_mode": {
    "name": "ipython",
    "version": 3
   },
   "file_extension": ".py",
   "mimetype": "text/x-python",
   "name": "python",
   "nbconvert_exporter": "python",
   "pygments_lexer": "ipython3",
   "version": "3.9.7"
  }
 },
 "nbformat": 4,
 "nbformat_minor": 5
}
